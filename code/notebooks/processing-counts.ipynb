{
 "cells": [
  {
   "cell_type": "code",
   "execution_count": null,
   "metadata": {
    "ExecuteTime": {
     "end_time": "2021-10-28T13:03:48.837889Z",
     "start_time": "2021-10-28T13:03:48.834418Z"
    }
   },
   "outputs": [],
   "source": [
    "import pandas as pd\n",
    "from pathlib import Path"
   ]
  },
  {
   "cell_type": "code",
   "execution_count": null,
   "metadata": {
    "ExecuteTime": {
     "end_time": "2021-10-28T13:03:58.299704Z",
     "start_time": "2021-10-28T13:03:58.291685Z"
    }
   },
   "outputs": [],
   "source": [
    "countDir = Path(\"../../counts\")\n",
    "countFiles = list(countDir.rglob(\"*/*.count.txt\"))"
   ]
  },
  {
   "cell_type": "code",
   "execution_count": null,
   "metadata": {
    "ExecuteTime": {
     "end_time": "2021-10-28T13:04:00.913532Z",
     "start_time": "2021-10-28T13:04:00.308599Z"
    }
   },
   "outputs": [],
   "source": [
    "df_list = []\n",
    "for f in countFiles:\n",
    "    df = pd.read_table(f, skiprows=[0], index_col=0).iloc[:,[4,5]]\n",
    "    df.columns = [\"Length\", f.stem.split(\".\")[0]]\n",
    "    df_list.append(df)\n",
    "fdf = pd.concat(df_list, axis=1)\n",
    "fdf = fdf.loc[:, ~fdf.columns.duplicated()]"
   ]
  },
  {
   "cell_type": "code",
   "execution_count": null,
   "metadata": {
    "ExecuteTime": {
     "end_time": "2021-10-28T13:05:22.831186Z",
     "start_time": "2021-10-28T13:05:22.822385Z"
    }
   },
   "outputs": [],
   "source": [
    "fdf.head()"
   ]
  },
  {
   "cell_type": "code",
   "execution_count": null,
   "metadata": {
    "ExecuteTime": {
     "end_time": "2021-10-28T13:08:54.319462Z",
     "start_time": "2021-10-28T13:08:54.309998Z"
    }
   },
   "outputs": [],
   "source": [
    "tpm = fdf.apply(lambda x: x/fdf['Length']).drop(['Length'], axis=1)\n",
    "scalingFactor = tpm.sum()/1000000\n",
    "tpm = tpm/scalingFactor"
   ]
  },
  {
   "cell_type": "code",
   "execution_count": null,
   "metadata": {
    "ExecuteTime": {
     "end_time": "2021-10-28T13:09:31.784257Z",
     "start_time": "2021-10-28T13:09:31.773692Z"
    }
   },
   "outputs": [],
   "source": [
    "tpm.sample(5)"
   ]
  },
  {
   "cell_type": "code",
   "execution_count": null,
   "metadata": {
    "ExecuteTime": {
     "end_time": "2021-10-28T13:10:10.181618Z",
     "start_time": "2021-10-28T13:10:10.178097Z"
    }
   },
   "outputs": [],
   "source": [
    "raw = fdf.drop(['Length'], axis=1)"
   ]
  },
  {
   "cell_type": "code",
   "execution_count": null,
   "metadata": {
    "ExecuteTime": {
     "end_time": "2021-10-28T13:10:16.940336Z",
     "start_time": "2021-10-28T13:10:16.932750Z"
    }
   },
   "outputs": [],
   "source": [
    "raw.sample(5)"
   ]
  },
  {
   "cell_type": "code",
   "execution_count": null,
   "metadata": {
    "ExecuteTime": {
     "end_time": "2021-10-28T13:11:25.221943Z",
     "start_time": "2021-10-28T13:11:25.217441Z"
    }
   },
   "outputs": [],
   "source": [
    "metaData = pd.DataFrame([raw.columns, [c.split('_')[0] for c in raw.columns]], index=['sampleID', 'condition']).T"
   ]
  },
  {
   "cell_type": "code",
   "execution_count": null,
   "metadata": {
    "ExecuteTime": {
     "end_time": "2021-10-28T13:11:26.027535Z",
     "start_time": "2021-10-28T13:11:26.018876Z"
    }
   },
   "outputs": [],
   "source": [
    "metaData"
   ]
  },
  {
   "cell_type": "code",
   "execution_count": null,
   "metadata": {
    "ExecuteTime": {
     "end_time": "2021-10-28T13:12:22.882004Z",
     "start_time": "2021-10-28T13:12:22.651007Z"
    }
   },
   "outputs": [],
   "source": [
    "raw.to_csv(countDir/\"raw_counts.csv\")\n",
    "tpm.to_csv(countDir/\"tpms.csv\")\n",
    "metaData.to_csv(countDir/\"metadata.csv\")"
   ]
  },
  {
   "cell_type": "code",
   "execution_count": null,
   "metadata": {},
   "outputs": [],
   "source": []
  }
 ],
 "metadata": {
  "kernelspec": {
   "display_name": "Python 3 (ipykernel)",
   "language": "python",
   "name": "python3"
  },
  "language_info": {
   "codemirror_mode": {
    "name": "ipython",
    "version": 3
   },
   "file_extension": ".py",
   "mimetype": "text/x-python",
   "name": "python",
   "nbconvert_exporter": "python",
   "pygments_lexer": "ipython3",
   "version": "3.8.12"
  },
  "toc": {
   "base_numbering": 1,
   "nav_menu": {},
   "number_sections": true,
   "sideBar": true,
   "skip_h1_title": false,
   "title_cell": "Table of Contents",
   "title_sidebar": "Contents",
   "toc_cell": false,
   "toc_position": {},
   "toc_section_display": true,
   "toc_window_display": false
  }
 },
 "nbformat": 4,
 "nbformat_minor": 4
}
